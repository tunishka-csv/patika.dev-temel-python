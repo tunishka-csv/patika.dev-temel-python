{
  "nbformat": 4,
  "nbformat_minor": 0,
  "metadata": {
    "colab": {
      "provenance": [],
      "toc_visible": true,
      "authorship_tag": "ABX9TyMSw+g1Ettg4E/Cm7VyI3Sg",
      "include_colab_link": true
    },
    "kernelspec": {
      "name": "python3",
      "display_name": "Python 3"
    },
    "language_info": {
      "name": "python"
    }
  },
  "cells": [
    {
      "cell_type": "markdown",
      "metadata": {
        "id": "view-in-github",
        "colab_type": "text"
      },
      "source": [
        "<a href=\"https://colab.research.google.com/github/tunishka-csv/patika.dev-temel-python/blob/main/Patika_Bootcamp_Temel-Python-Proje.ipynb\" target=\"_parent\"><img src=\"https://colab.research.google.com/assets/colab-badge.svg\" alt=\"Open In Colab\"/></a>"
      ]
    },
    {
      "cell_type": "markdown",
      "source": [
        "# Temel Python Proje"
      ],
      "metadata": {
        "id": "dIkevWcdRADN"
      }
    },
    {
      "cell_type": "markdown",
      "source": [
        "1- Bir listeyi düzleştiren (flatten) fonksiyon yazın. Elemanları birden çok katmanlı listelerden ([[3],2] gibi) oluşabileceği gibi, non-scalar verilerden de oluşabilir.\n",
        "\n",
        "Örnek olarak:\n",
        "\n",
        "input=[[1,'a',['cat'],2],[[[3]],'dog'],4,5]\n",
        "\n",
        "output: [1,'a','cat',2,3,'dog',4,5]"
      ],
      "metadata": {
        "id": "0hwGsmyrRPdK"
      }
    },
    {
      "cell_type": "code",
      "source": [
        "def flatten(lst):\n",
        "    flat_list = []\n",
        "    for item in lst:\n",
        "        if isinstance(item, list):\n",
        "            flat_list.extend(flatten(item))  # Recursive call\n",
        "        else:\n",
        "            flat_list.append(item)\n",
        "    return flat_list\n",
        "input=[[1,'a',['cat'],2],[[[3]],'dog'],4,5]\n",
        "flatten(input)"
      ],
      "metadata": {
        "colab": {
          "base_uri": "https://localhost:8080/"
        },
        "id": "jN5eSVKyRmtC",
        "outputId": "478927c3-414b-4b07-e1a3-ab5fd0307523"
      },
      "execution_count": 1,
      "outputs": [
        {
          "output_type": "execute_result",
          "data": {
            "text/plain": [
              "[1, 'a', 'cat', 2, 3, 'dog', 4, 5]"
            ]
          },
          "metadata": {},
          "execution_count": 1
        }
      ]
    },
    {
      "cell_type": "markdown",
      "source": [
        "2- Verilen listenin içindeki elemanları tersine döndüren bir fonksiyon yazın. Eğer listenin içindeki elemanlar da liste içeriyorsa onların elemanlarını da tersine döndürün.\n",
        "\n",
        "Örnek olarak:\n",
        "\n",
        "input: [[1, 2], [3, 4], [5, 6, 7]]\n",
        "\n",
        "output: [[7, 6, 5], [4, 3], [2, 1]]"
      ],
      "metadata": {
        "id": "mQQ71dcjR06s"
      }
    },
    {
      "cell_type": "code",
      "source": [
        "def rev(n):\n",
        "    rev_list=[]\n",
        "    for item in n:\n",
        "        if isinstance(item, list):\n",
        "            item.reverse()\n",
        "            rev_list.append(item)\n",
        "        else:\n",
        "            rev_list.append(item)\n",
        "    rev_list.reverse()\n",
        "    return rev_list\n",
        "\n",
        "input=[[1, 2], [3, 4], [5, 6, 7]]\n",
        "rev(input)"
      ],
      "metadata": {
        "colab": {
          "base_uri": "https://localhost:8080/"
        },
        "id": "WJ9CQ4z-R7su",
        "outputId": "514d9716-260b-4a73-9a12-60352756d242"
      },
      "execution_count": 2,
      "outputs": [
        {
          "output_type": "execute_result",
          "data": {
            "text/plain": [
              "[[7, 6, 5], [4, 3], [2, 1]]"
            ]
          },
          "metadata": {},
          "execution_count": 2
        }
      ]
    }
  ]
}