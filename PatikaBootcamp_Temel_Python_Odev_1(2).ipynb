{
  "nbformat": 4,
  "nbformat_minor": 0,
  "metadata": {
    "colab": {
      "provenance": [],
      "toc_visible": true
    },
    "kernelspec": {
      "name": "python3",
      "display_name": "Python 3"
    },
    "language_info": {
      "name": "python"
    }
  },
  "cells": [
    {
      "cell_type": "markdown",
      "source": [
        "# Temel Python - Ödev-1"
      ],
      "metadata": {
        "id": "-oN-NPYWPPad"
      }
    },
    {
      "cell_type": "markdown",
      "source": [
        "Kız Başına - Patika.dev Veri Analizi Bootcamp'i kapsamındaki Temel Python dersinin ilk ödevi için çeşitli egzersizler yapılmıştır. For, while döngüleri, if-else ile koda koşul ekleme, fonksiyon gibi özellikler kullanılmıştır."
      ],
      "metadata": {
        "id": "5TS-yMWJPWtW"
      }
    },
    {
      "cell_type": "markdown",
      "source": [
        "**1. Girilen sayının pozitif, negatif veya sıfır olduğunu yazan koşul**\n"
      ],
      "metadata": {
        "id": "DuI3ocguPYAa"
      }
    },
    {
      "cell_type": "code",
      "execution_count": null,
      "metadata": {
        "colab": {
          "base_uri": "https://localhost:8080/"
        },
        "id": "RcJtamwYsw1S",
        "outputId": "b3039f34-e778-41d8-c74f-3fec12a52996"
      },
      "outputs": [
        {
          "output_type": "stream",
          "name": "stdout",
          "text": [
            "bir sayi giriniz: 3\n",
            "girdiğiniz sayı pozitiftir\n"
          ]
        }
      ],
      "source": [
        "x=float(input(\"bir sayi giriniz: \"))\n",
        "if x>0:\n",
        "    print(\"girdiğiniz sayı pozitiftir\")\n",
        "elif x==0:\n",
        "    print(\"girdiğiniz sayı 0'dır\")\n",
        "else:\n",
        "   print(\"girdiğiniz sayı negatiftir\")"
      ]
    },
    {
      "cell_type": "markdown",
      "source": [
        "**2. Girilen sayının tek mi çift mi olduğunu yazan koşul**"
      ],
      "metadata": {
        "id": "UgGSoLarPdQn"
      }
    },
    {
      "cell_type": "code",
      "source": [
        "x=float(input(\"bir sayi giriniz: \"))\n",
        "if x%2==0:\n",
        "    print(\"girdiğiniz sayı çifttir\")\n",
        "elif x%2==1:\n",
        "    print(\"girdiğiniz sayı tektir\")\n",
        "else:\n",
        "    print(\"lütfen bir tamsayı giriniz\")"
      ],
      "metadata": {
        "colab": {
          "base_uri": "https://localhost:8080/"
        },
        "id": "cap7W6notiKd",
        "outputId": "27f16993-81fe-489e-e62c-98b1f3c2f924"
      },
      "execution_count": null,
      "outputs": [
        {
          "output_type": "stream",
          "name": "stdout",
          "text": [
            "bir sayi giriniz: 2\n",
            "girdiğiniz sayı çifttir\n"
          ]
        }
      ]
    },
    {
      "cell_type": "markdown",
      "source": [
        "**3. Girilen nota göre harf aralığını yazan koşul (80-100 A, 60-80 B vs.)**"
      ],
      "metadata": {
        "id": "VGkE5bT9PnDt"
      }
    },
    {
      "cell_type": "code",
      "source": [
        "x=float(input(\"not: \"))\n",
        "if x<=100 and x>=80:\n",
        "    print(\"not: A\")\n",
        "elif x<80 and x>=60:\n",
        "    print(\"not: B\")\n",
        "elif x<60 and x>=40:\n",
        "    print(\"not: C\")\n",
        "elif x<40 and x>=20:\n",
        "    print(\"not: D\")\n",
        "elif x<20 and x>=0:\n",
        "    print(\"not: F\")\n",
        "else:\n",
        "    print(\"lütfen 0 ile 100 arasında bir sayı giriniz\")"
      ],
      "metadata": {
        "colab": {
          "base_uri": "https://localhost:8080/"
        },
        "id": "lCKfS1dKtpQH",
        "outputId": "9c1f30ba-197d-4680-af8b-2373a1264307"
      },
      "execution_count": null,
      "outputs": [
        {
          "output_type": "stream",
          "name": "stdout",
          "text": [
            "not: 47\n",
            "not: C\n"
          ]
        }
      ]
    },
    {
      "cell_type": "markdown",
      "source": [
        "**4. Girilen ismin karakter sayısı 5'ten büyükse \"uzun bir isminiz var\" değilse ismini yazan kod**"
      ],
      "metadata": {
        "id": "tuS2wzcgPuJd"
      }
    },
    {
      "cell_type": "code",
      "source": [
        "x=input(\"isim:\")\n",
        "if len(x)>5:\n",
        "    print(\"isminiz çok uzun\")\n",
        "else:\n",
        "    print(x)"
      ],
      "metadata": {
        "colab": {
          "base_uri": "https://localhost:8080/"
        },
        "id": "wI598NbYtvGF",
        "outputId": "bb5e489a-822a-4601-eb84-93abd5f87eb9"
      },
      "execution_count": null,
      "outputs": [
        {
          "output_type": "stream",
          "name": "stdout",
          "text": [
            "isim:abdulrezzak\n",
            "isminiz çok uzun\n"
          ]
        }
      ]
    },
    {
      "cell_type": "markdown",
      "source": [
        "**5.Girilen sayının asal olup olmadığını bulan kod dizisi - for**"
      ],
      "metadata": {
        "id": "mBZuCjRTP4If"
      }
    },
    {
      "cell_type": "code",
      "source": [
        "check=True\n",
        "x=int(input(\"number:\"))\n",
        "for i in range (2,x):\n",
        "    if x%i==0:\n",
        "        check=False\n",
        "        break\n",
        "if check==False:\n",
        "    print(f\"number is divisible by {i}\")\n",
        "else:\n",
        "    print(\"this is a prime number\")"
      ],
      "metadata": {
        "colab": {
          "base_uri": "https://localhost:8080/"
        },
        "id": "pa_oAllNtxHG",
        "outputId": "fb1805d7-8a99-4100-db3c-427ed71c90fb"
      },
      "execution_count": null,
      "outputs": [
        {
          "output_type": "stream",
          "name": "stdout",
          "text": [
            "number:17\n",
            "this is a prime number\n"
          ]
        }
      ]
    },
    {
      "cell_type": "markdown",
      "source": [
        "\n",
        "**6.Girilen sayının asal olup olmadığını bulan kod dizisi - while**"
      ],
      "metadata": {
        "id": "uN7AC6q4hDp6"
      }
    },
    {
      "cell_type": "markdown",
      "source": [
        "\n",
        "\n",
        "> Bu maddenin kod bloğu bir türlü github'da render'lanmadı. Jupyter notebook olarak indirip lokalde açınca kod kısmı görünüyor ama burada olmuyor. O yüzden markdown olarak da ekledim.\n",
        "\n"
      ],
      "metadata": {
        "id": "YXAr9s-Oo_30"
      }
    },
    {
      "cell_type": "markdown",
      "source": [
        "```\n",
        "check=True\n",
        "x=int(input(\"number:\"))\n",
        "i=2\n",
        "while i<x:\n",
        "  if x%i==0:\n",
        "    check=False\n",
        "    break\n",
        "  else:\n",
        "    i=i+1\n",
        "if check==False:\n",
        "  print(f\"number is divisible by {i}\")\n",
        "else:\n",
        "  print(\"this is a prime number\")\n",
        "\n",
        "```\n",
        "\n"
      ],
      "metadata": {
        "id": "sIoYPySSmIJC"
      }
    },
    {
      "cell_type": "code",
      "source": [
        "check=True\n",
        "x=int(input(\"number:\"))\n",
        "i=2\n",
        "while i<x:\n",
        "  if x%i==0:\n",
        "    check=False\n",
        "    break\n",
        "  else:\n",
        "    i=i+1\n",
        "if check==False:\n",
        "  print(f\"number is divisible by {i}\")\n",
        "else:\n",
        "  print(\"this is a prime number\")"
      ],
      "metadata": {
        "colab": {
          "base_uri": "https://localhost:8080/"
        },
        "id": "L74B-6mehKFY",
        "outputId": "7e581a4f-2885-4451-cb7e-eb5e362a4c3a"
      },
      "execution_count": 9,
      "outputs": [
        {
          "output_type": "stream",
          "name": "stdout",
          "text": [
            "number:51\n",
            "number is divisible by 3\n"
          ]
        }
      ]
    },
    {
      "cell_type": "markdown",
      "source": [
        "**7.`notlar=[45,85,75,50]` içinde 75 değerinin indisini yazdıran döngü**"
      ],
      "metadata": {
        "id": "O-_QAvI0QHPm"
      }
    },
    {
      "cell_type": "code",
      "source": [
        "notlar=[45,85,75,50]\n",
        "for i in range (0,len(notlar)):\n",
        "    if notlar[i]==75:\n",
        "        print(i)"
      ],
      "metadata": {
        "colab": {
          "base_uri": "https://localhost:8080/"
        },
        "id": "aG0-IbH4uCjK",
        "outputId": "50b56a84-59d1-413f-cf44-aeb15f2105cc"
      },
      "execution_count": null,
      "outputs": [
        {
          "output_type": "stream",
          "name": "stdout",
          "text": [
            "2\n"
          ]
        }
      ]
    },
    {
      "cell_type": "markdown",
      "source": [
        "**8. Girilen sayının faktöriyelini bulma-for**"
      ],
      "metadata": {
        "id": "RUCm3GGPQQnV"
      }
    },
    {
      "cell_type": "code",
      "source": [
        "x=int(float(input(\"number:\")))\n",
        "product=1\n",
        "if x<0:\n",
        "    print(\"please enter a positive integer\")\n",
        "else:\n",
        "    for i in range (1,x+1):\n",
        "        product=product*i\n",
        "    print(product)"
      ],
      "metadata": {
        "colab": {
          "base_uri": "https://localhost:8080/"
        },
        "id": "CVCm6qCZuFSH",
        "outputId": "7212ef3f-e547-480c-db1a-162249c2766f"
      },
      "execution_count": null,
      "outputs": [
        {
          "output_type": "stream",
          "name": "stdout",
          "text": [
            "number:5\n",
            "120\n"
          ]
        }
      ]
    },
    {
      "cell_type": "markdown",
      "source": [
        "**9. Girilen sayının faktöriyelini bulma-while**"
      ],
      "metadata": {
        "id": "Y_JoUnhBQWV1"
      }
    },
    {
      "cell_type": "code",
      "source": [
        "x=int(float(input(\"number:\")))\n",
        "product=1\n",
        "i=1\n",
        "if x<0:\n",
        "    print(\"please enter a positive integer\")\n",
        "else:\n",
        "    while i<=x:\n",
        "        product=product*i\n",
        "        i=i+1\n",
        "    print(product)"
      ],
      "metadata": {
        "colab": {
          "base_uri": "https://localhost:8080/"
        },
        "id": "wVujva9_uIvP",
        "outputId": "80e5b22a-1d1a-4e4f-90b8-958fce3a6a2b"
      },
      "execution_count": null,
      "outputs": [
        {
          "output_type": "stream",
          "name": "stdout",
          "text": [
            "number:6\n",
            "720\n"
          ]
        }
      ]
    },
    {
      "cell_type": "markdown",
      "source": [
        "**10. Kullanıcıdan pozitif sayı bekleyen, pozitifi gördüğü gibi bastıran, negatif girersen bir daha isteyen for döngüsü-while**"
      ],
      "metadata": {
        "id": "rLhj5sAiQb6Q"
      }
    },
    {
      "cell_type": "code",
      "source": [
        "x=float(input(\"number:\"))\n",
        "\n",
        "while x<0:\n",
        "    print(\"please enter a positive number\")\n",
        "    x=float(input(\"number:\"))\n",
        "print(x)\n"
      ],
      "metadata": {
        "colab": {
          "base_uri": "https://localhost:8080/"
        },
        "id": "XWVIwarSuNT9",
        "outputId": "192b9f73-dffe-45f7-9dcd-a7b125b9b14a"
      },
      "execution_count": null,
      "outputs": [
        {
          "output_type": "stream",
          "name": "stdout",
          "text": [
            "number:-5\n",
            "please enter a positive number\n",
            "number:3\n",
            "3.0\n"
          ]
        }
      ]
    },
    {
      "cell_type": "markdown",
      "source": [
        "**11. Kullanıcıdan pozitif sayı bekleyen, pozitifi gördüğü gibi bastıran, negatif girersen bir daha isteyen for döngüsü**"
      ],
      "metadata": {
        "id": "-tdQkJ9rQiM2"
      }
    },
    {
      "cell_type": "code",
      "source": [
        "for i in range (10000):\n",
        "    x=float(input(\"number:\"))\n",
        "    if x<0:\n",
        "        print(\"please enter a positive number\")\n",
        "    else:\n",
        "        print(x)\n",
        "        break"
      ],
      "metadata": {
        "colab": {
          "base_uri": "https://localhost:8080/"
        },
        "id": "cWLkdK97uUBO",
        "outputId": "50921d14-990b-41e6-9411-98ff2f9c5f76"
      },
      "execution_count": null,
      "outputs": [
        {
          "output_type": "stream",
          "name": "stdout",
          "text": [
            "number:-2\n",
            "please enter a positive number\n",
            "number:3\n",
            "3.0\n"
          ]
        }
      ]
    },
    {
      "cell_type": "markdown",
      "source": [
        "**12. Fonksiyon ile girilen sayının asal olup olmadığını bulan kod dizisi - while**\n",
        "\n"
      ],
      "metadata": {
        "id": "0NbrTZRSQnci"
      }
    },
    {
      "cell_type": "markdown",
      "source": [
        "\n",
        "\n",
        "> Bu maddenin kod bloğu bir türlü github'da render'lanmadı. Jupyter notebook olarak indirip lokalde açınca kod kısmı görünüyor ama burada olmuyor. O yüzden markdown olarak da ekledim.\n",
        "\n"
      ],
      "metadata": {
        "id": "CBETWstWpEKs"
      }
    },
    {
      "cell_type": "markdown",
      "source": [
        "```\n",
        "def is_prime_wh(x):\n",
        "  check=True\n",
        "  i=2\n",
        "  while i<x:\n",
        "    if x%i==0:\n",
        "        check=False\n",
        "        break\n",
        "    else:\n",
        "        i=i+1\n",
        "  if check==False:\n",
        "      print(f\"number is divisible by {i}\")\n",
        "  else:\n",
        "      print(\"this is a prime number\")\n",
        "\n",
        "\n",
        "is_prime_wh(int(input()))\n",
        "```"
      ],
      "metadata": {
        "id": "igOzh--NmUYD"
      }
    },
    {
      "cell_type": "code",
      "source": [
        "def is_prime_wh(x):\n",
        "  check=True\n",
        "  i=2\n",
        "  while i<x:\n",
        "    if x%i==0:\n",
        "        check=False\n",
        "        break\n",
        "    else:\n",
        "        i=i+1\n",
        "  if check==False:\n",
        "      print(f\"number is divisible by {i}\")\n",
        "  else:\n",
        "      print(\"this is a prime number\")\n",
        "\n",
        "\n",
        "is_prime_wh(int(input()))"
      ],
      "metadata": {
        "colab": {
          "base_uri": "https://localhost:8080/"
        },
        "id": "CF_NP1MAct37",
        "outputId": "ba150fa5-038d-420d-e4cb-7c8fd543b3de"
      },
      "execution_count": 6,
      "outputs": [
        {
          "output_type": "stream",
          "name": "stdout",
          "text": [
            "7\n",
            "this is a prime number\n"
          ]
        }
      ]
    },
    {
      "cell_type": "markdown",
      "source": [
        "**13. Fonksiyon ile girilen sayının asal olup olmadığını bulan kod dizisi - for**"
      ],
      "metadata": {
        "id": "DyxzVwUDQvMX"
      }
    },
    {
      "cell_type": "code",
      "source": [
        "def is_prime_for(x):\n",
        "  check=True\n",
        "\n",
        "  for i in range (2,x):\n",
        "      if x%i==0:\n",
        "        check=False\n",
        "        break\n",
        "  if check==False:\n",
        "      print(f\"number is divisible by {i}\")\n",
        "  else:\n",
        "      print(\"this is a prime number\")\n",
        "\n",
        "is_prime_for(int(input()))"
      ],
      "metadata": {
        "colab": {
          "base_uri": "https://localhost:8080/"
        },
        "id": "I0wfs9O80L9q",
        "outputId": "8ba905ea-988d-4979-ee5d-a85889a8fa34"
      },
      "execution_count": null,
      "outputs": [
        {
          "output_type": "stream",
          "name": "stdout",
          "text": [
            "151\n",
            "this is a prime number\n"
          ]
        }
      ]
    },
    {
      "cell_type": "markdown",
      "source": [
        "**14. Fonksiyon ile girilen sayının faktöriyelini bulma-for**\n"
      ],
      "metadata": {
        "id": "ZDq4frUsRKZx"
      }
    },
    {
      "cell_type": "code",
      "source": [
        "def fact_for(x):\n",
        "  product=1\n",
        "  if x<0:\n",
        "      print(\"please enter a positive integer\")\n",
        "  else:\n",
        "      for i in range (1,x+1):\n",
        "          product=product*i\n",
        "  return product\n",
        "\n",
        "print(fact_for(int(input())))"
      ],
      "metadata": {
        "colab": {
          "base_uri": "https://localhost:8080/"
        },
        "id": "982QaEGH057n",
        "outputId": "6de4c2a8-c72a-489a-a6da-658e1dbef4ca"
      },
      "execution_count": null,
      "outputs": [
        {
          "output_type": "stream",
          "name": "stdout",
          "text": [
            "5\n",
            "120\n"
          ]
        }
      ]
    },
    {
      "cell_type": "markdown",
      "source": [
        "**15. Fonksiyon ile girilen sayının faktöriyelini bulma-while**\n"
      ],
      "metadata": {
        "id": "8fN_US7XRRZb"
      }
    },
    {
      "cell_type": "code",
      "source": [
        "def fact_wh(x):\n",
        "  product=1\n",
        "  i=1\n",
        "  if x<0:\n",
        "      print(\"please enter a positive integer\")\n",
        "  else:\n",
        "      while i<=x:\n",
        "        product=product*i\n",
        "        i=i+1\n",
        "  return product\n",
        "\n",
        "print(fact_wh(int(input())))"
      ],
      "metadata": {
        "colab": {
          "base_uri": "https://localhost:8080/"
        },
        "id": "T6slwnJf1mj_",
        "outputId": "e9fc0dc5-1667-4d61-9577-46f8dda76cec"
      },
      "execution_count": null,
      "outputs": [
        {
          "output_type": "stream",
          "name": "stdout",
          "text": [
            "6\n",
            "720\n"
          ]
        }
      ]
    }
  ]
}
